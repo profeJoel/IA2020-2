{
  "nbformat": 4,
  "nbformat_minor": 0,
  "metadata": {
    "colab": {
      "name": "Perceptron y Perceptron Multicapa.ipynb",
      "provenance": [],
      "collapsed_sections": []
    },
    "kernelspec": {
      "name": "python3",
      "display_name": "Python 3"
    }
  },
  "cells": [
    {
      "cell_type": "markdown",
      "metadata": {
        "id": "UOBnbAeXevvX"
      },
      "source": [
        "**Crear Compuertas lógicas con Perceptrones**"
      ]
    },
    {
      "cell_type": "code",
      "metadata": {
        "id": "trGSKzQTeqEG"
      },
      "source": [
        "import sklearn.metrics as metric\r\n",
        "import numpy as np"
      ],
      "execution_count": 9,
      "outputs": []
    },
    {
      "cell_type": "code",
      "metadata": {
        "id": "3GmCxdKXfDXw"
      },
      "source": [
        "# AND\r\n",
        "X_train = [[1,1],\r\n",
        "           [1,0],\r\n",
        "           [0,1],\r\n",
        "           [0,0]]\r\n",
        "y_train = [1,0,0,0]"
      ],
      "execution_count": 24,
      "outputs": []
    },
    {
      "cell_type": "code",
      "metadata": {
        "id": "l7yFqmzmfZtz"
      },
      "source": [
        "# OR\r\n",
        "X_train = [[1,1],\r\n",
        "           [1,0],\r\n",
        "           [0,1],\r\n",
        "           [0,0]]\r\n",
        "y_train = [1,1,1,0]"
      ],
      "execution_count": 26,
      "outputs": []
    },
    {
      "cell_type": "code",
      "metadata": {
        "id": "E6jd_k0Lhlww"
      },
      "source": [
        "# NOT\r\n",
        "X_train = [[0],[1]]\r\n",
        "y_train = [1,0]"
      ],
      "execution_count": 28,
      "outputs": []
    },
    {
      "cell_type": "code",
      "metadata": {
        "colab": {
          "base_uri": "https://localhost:8080/"
        },
        "id": "66Edt0k0f8PD",
        "outputId": "c638fac2-bc0b-4588-a1b8-1e2979227a2e"
      },
      "source": [
        "# Perceptron\r\n",
        "from sklearn.linear_model import Perceptron\r\n",
        "\r\n",
        "red = Perceptron(max_iter = 100)\r\n",
        "red.fit(X_train, y_train)\r\n",
        "\r\n",
        "X_test = X_train\r\n",
        "y_test = y_train\r\n",
        "\r\n",
        "y_pred = red.predict(X_test)\r\n",
        "print(y_pred)\r\n",
        "\r\n",
        "precision = metric.accuracy_score(y_test, y_pred, normalize = True)\r\n",
        "print(\"Precision = \", precision)\r\n",
        "\r\n",
        "print(\"Bias = \",red.intercept_, \"Parametros: \", red.coef_)"
      ],
      "execution_count": 29,
      "outputs": [
        {
          "output_type": "stream",
          "text": [
            "[1 0]\n",
            "Precision =  1.0\n",
            "Bias =  [1.] Parametros:  [[-2.]]\n"
          ],
          "name": "stdout"
        }
      ]
    },
    {
      "cell_type": "code",
      "metadata": {
        "id": "URHG2n62h8O5"
      },
      "source": [
        "# XOR\r\n",
        "X_train = [[1,1],\r\n",
        "           [1,0],\r\n",
        "           [0,1],\r\n",
        "           [0,0]]\r\n",
        "y_train = [0,1,1,0]"
      ],
      "execution_count": 46,
      "outputs": []
    },
    {
      "cell_type": "code",
      "metadata": {
        "id": "zCw7m41AiHs-"
      },
      "source": [
        "# XNOR\r\n",
        "X_train = [[1,1],\r\n",
        "           [1,0],\r\n",
        "           [0,1],\r\n",
        "           [0,0]]\r\n",
        "y_train = [1,0,0,1]"
      ],
      "execution_count": 49,
      "outputs": []
    },
    {
      "cell_type": "code",
      "metadata": {
        "colab": {
          "base_uri": "https://localhost:8080/"
        },
        "id": "DP15gzW2iyTU",
        "outputId": "0d562366-4ddc-4d0c-8f11-4d4117039dc4"
      },
      "source": [
        "#Perceptron Multicapa\r\n",
        "from sklearn.neural_network import MLPClassifier\r\n",
        "\r\n",
        "red_MLP = MLPClassifier(solver = 'lbfgs', hidden_layer_sizes = (2,1), activation = 'logistic', max_iter= 5000)\r\n",
        "red_MLP.fit(X_train, y_train)\r\n",
        "\r\n",
        "X_test = X_train\r\n",
        "y_test = y_train\r\n",
        "\r\n",
        "y_pred = red_MLP.predict(X_test)\r\n",
        "print(y_pred)\r\n",
        "\r\n",
        "precision = metric.accuracy_score(np.array(y_test).flatten(), np.array(y_pred).flatten(), normalize = True)\r\n",
        "print(\"Precision = \", precision)\r\n",
        "\r\n",
        "print([coef.shape for coef in red_MLP.coefs_])"
      ],
      "execution_count": 54,
      "outputs": [
        {
          "output_type": "stream",
          "text": [
            "[1 0 0 1]\n",
            "Precision =  1.0\n",
            "[(2, 2), (2, 1), (1, 1)]\n"
          ],
          "name": "stdout"
        }
      ]
    }
  ]
}